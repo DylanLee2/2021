{
 "cells": [
  {
   "cell_type": "markdown",
   "metadata": {},
   "source": [
    "# Is it a palindrome?\n",
    "\n",
    "A palindrome is a word, phrase, or sequence that reads the same backward as forward, e.g., madam or nurses run.\n",
    "\n",
    "Write code that takes a string and returns `True` if that string is a palindrome. Your analysis should be case-insensitive and should disregard spaces. E.g. \"Race car\" should be considered a palindrome, despite beginning with a capitalized letter and containing a space. None of the strings will contain punctuation. Thus your function should produce the following behavior:\n",
    "\n",
    "- \"Are we not drawn onward to new era\" -> True\n",
    "- \"batman\" -> False\n",
    "\n",
    "## Required Concepts\n",
    "Basic Object Types\n",
    "- strings\n",
    "- checking equality\n",
    "\n",
    "Sequence Types\n",
    "- slicing\n",
    "\n",
    "## Examples\n",
    "```python\n",
    ">>> student_func(\"Race car\")\n",
    "True\n",
    "\n",
    ">>> student_func(\"RaCeCaR\")\n",
    "True\n",
    "\n",
    ">>> student_func(\"apple\")\n",
    "False\n",
    "```"
   ]
  },
  {
   "cell_type": "code",
   "execution_count": null,
   "metadata": {},
   "outputs": [],
   "source": [
    "# make sure to execute this cell so that your function is defined\n",
    "# you must re-run this cell any time you make a change to this function\n",
    "\n",
    "def student_func(x):\n",
    "    # `x` is a string\n",
    "    # this function should return either `True` or `False`\n",
    "\n",
    "    # write your code here\n",
    "    # be sure to include a `return` statement so that\n",
    "    # your function returns the appropriate object.\n",
    "    \n",
    "    f = 0\n",
    "    l = len(x)-1\n",
    "    pal = False\n",
    "    while(f < len(x)-1):\n",
    "        print(x[f].lower(), x[l].lower())\n",
    "        if(x[f] == \" \" or x[l] == \" \"):\n",
    "            continue\n",
    "        elif(x[f].lower() == x[l].lower()):\n",
    "            pal = True\n",
    "        else:\n",
    "            pal = False\n",
    "            break;\n",
    "        f = f + 1\n",
    "        l = l - 1\n",
    "    return pal\n",
    "    pass\n",
    "\n",
    "student_func(\"racecar\")"
   ]
  },
  {
   "cell_type": "code",
   "execution_count": 16,
   "metadata": {},
   "outputs": [
    {
     "name": "stdout",
     "output_type": "stream",
     "text": [
      "Using grader version 1.11.0\n"
     ]
    },
    {
     "ename": "StudentError",
     "evalue": "\nCalling \n\tstudent_function('Race Car')\nproduced an incorrect result.\n\nExpected:\nTrue\n\nGot:\nFalse",
     "output_type": "error",
     "traceback": [
      "\u001b[1;31m---------------------------------------------------------------------------\u001b[0m",
      "\u001b[1;31mStudentError\u001b[0m                              Traceback (most recent call last)",
      "\u001b[1;32m<ipython-input-16-484ffdc1bcc0>\u001b[0m in \u001b[0;36m<module>\u001b[1;34m\u001b[0m\n\u001b[0;32m      1\u001b[0m \u001b[1;31m# Execute this cell to grade your work\u001b[0m\u001b[1;33m\u001b[0m\u001b[1;33m\u001b[0m\u001b[1;33m\u001b[0m\u001b[0m\n\u001b[0;32m      2\u001b[0m \u001b[1;32mfrom\u001b[0m \u001b[0mbwsi_grader\u001b[0m\u001b[1;33m.\u001b[0m\u001b[0mpython\u001b[0m\u001b[1;33m.\u001b[0m\u001b[0mpalindrome\u001b[0m \u001b[1;32mimport\u001b[0m \u001b[0mgrader\u001b[0m\u001b[1;33m\u001b[0m\u001b[1;33m\u001b[0m\u001b[0m\n\u001b[1;32m----> 3\u001b[1;33m \u001b[0mgrader\u001b[0m\u001b[1;33m(\u001b[0m\u001b[0mstudent_func\u001b[0m\u001b[1;33m)\u001b[0m\u001b[1;33m\u001b[0m\u001b[1;33m\u001b[0m\u001b[0m\n\u001b[0m",
      "\u001b[1;32m~\\anaconda3\\lib\\site-packages\\bwsi_grader\\python\\palindrome.py\u001b[0m in \u001b[0;36mgrader\u001b[1;34m(student_func)\u001b[0m\n\u001b[0;32m     57\u001b[0m     \u001b[1;31m# check some standard cases\u001b[0m\u001b[1;33m\u001b[0m\u001b[1;33m\u001b[0m\u001b[1;33m\u001b[0m\u001b[0m\n\u001b[0;32m     58\u001b[0m     \u001b[1;32mfor\u001b[0m \u001b[0minput_\u001b[0m \u001b[1;32min\u001b[0m \u001b[1;33m(\u001b[0m\u001b[1;34m\"cat\"\u001b[0m\u001b[1;33m,\u001b[0m \u001b[1;34m\"Race Car\"\u001b[0m\u001b[1;33m,\u001b[0m \u001b[1;34m\"RaCeCaR\"\u001b[0m\u001b[1;33m,\u001b[0m \u001b[1;34m\"Python\"\u001b[0m\u001b[1;33m,\u001b[0m \u001b[1;34m\"nurses run\"\u001b[0m\u001b[1;33m,\u001b[0m \u001b[1;34m\"HHH\"\u001b[0m\u001b[1;33m)\u001b[0m\u001b[1;33m:\u001b[0m\u001b[1;33m\u001b[0m\u001b[1;33m\u001b[0m\u001b[0m\n\u001b[1;32m---> 59\u001b[1;33m         \u001b[0mcompare_functions\u001b[0m\u001b[1;33m(\u001b[0m\u001b[0mstudent\u001b[0m\u001b[1;33m=\u001b[0m\u001b[0mstudent_func\u001b[0m\u001b[1;33m,\u001b[0m \u001b[0msoln\u001b[0m\u001b[1;33m=\u001b[0m\u001b[0msoln\u001b[0m\u001b[1;33m,\u001b[0m \u001b[0mfn_args\u001b[0m\u001b[1;33m=\u001b[0m\u001b[1;33m(\u001b[0m\u001b[0minput_\u001b[0m\u001b[1;33m,\u001b[0m\u001b[1;33m)\u001b[0m\u001b[1;33m)\u001b[0m\u001b[1;33m\u001b[0m\u001b[1;33m\u001b[0m\u001b[0m\n\u001b[0m\u001b[0;32m     60\u001b[0m \u001b[1;33m\u001b[0m\u001b[0m\n\u001b[0;32m     61\u001b[0m     phrases = [\n",
      "\u001b[1;32m~\\anaconda3\\lib\\site-packages\\bwsi_grader\\__init__.py\u001b[0m in \u001b[0;36mcompare_functions\u001b[1;34m(student, soln, fn_args, fn_kwargs, function_name, comparison_function)\u001b[0m\n\u001b[0;32m    164\u001b[0m     )\n\u001b[0;32m    165\u001b[0m     \u001b[1;32mif\u001b[0m \u001b[0mmismatch_msg\u001b[0m\u001b[1;33m:\u001b[0m\u001b[1;33m\u001b[0m\u001b[1;33m\u001b[0m\u001b[0m\n\u001b[1;32m--> 166\u001b[1;33m         raise StudentError(\n\u001b[0m\u001b[0;32m    167\u001b[0m             \u001b[1;34mf\"\\nCalling \\n\\t{pad_indent(sig, ln=4)}\\nproduced an incorrect result.\\n\\n\"\u001b[0m\u001b[1;33m\u001b[0m\u001b[1;33m\u001b[0m\u001b[0m\n\u001b[0;32m    168\u001b[0m             \u001b[1;33m+\u001b[0m \u001b[0mmismatch_msg\u001b[0m\u001b[1;33m\u001b[0m\u001b[1;33m\u001b[0m\u001b[0m\n",
      "\u001b[1;31mStudentError\u001b[0m: \nCalling \n\tstudent_function('Race Car')\nproduced an incorrect result.\n\nExpected:\nTrue\n\nGot:\nFalse"
     ]
    }
   ],
   "source": [
    "# Execute this cell to grade your work\n",
    "from bwsi_grader.python.palindrome import grader\n",
    "grader(student_func)"
   ]
  },
  {
   "cell_type": "code",
   "execution_count": null,
   "metadata": {},
   "outputs": [],
   "source": []
  }
 ],
 "metadata": {
  "kernelspec": {
   "display_name": "Python 3",
   "language": "python",
   "name": "python3"
  },
  "language_info": {
   "codemirror_mode": {
    "name": "ipython",
    "version": 3
   },
   "file_extension": ".py",
   "mimetype": "text/x-python",
   "name": "python",
   "nbconvert_exporter": "python",
   "pygments_lexer": "ipython3",
   "version": "3.8.5"
  }
 },
 "nbformat": 4,
 "nbformat_minor": 4
}
